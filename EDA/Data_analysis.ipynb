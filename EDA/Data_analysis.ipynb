{
 "cells": [
  {
   "cell_type": "code",
   "execution_count": 23,
   "metadata": {},
   "outputs": [],
   "source": [
    "import pandas as pd\n",
    "\n",
    "data = pd.read_csv(\"Laptop.csv\")"
   ]
  },
  {
   "cell_type": "code",
   "execution_count": 24,
   "metadata": {},
   "outputs": [
    {
     "data": {
      "text/html": [
       "<div>\n",
       "<style scoped>\n",
       "    .dataframe tbody tr th:only-of-type {\n",
       "        vertical-align: middle;\n",
       "    }\n",
       "\n",
       "    .dataframe tbody tr th {\n",
       "        vertical-align: top;\n",
       "    }\n",
       "\n",
       "    .dataframe thead th {\n",
       "        text-align: right;\n",
       "    }\n",
       "</style>\n",
       "<table border=\"1\" class=\"dataframe\">\n",
       "  <thead>\n",
       "    <tr style=\"text-align: right;\">\n",
       "      <th></th>\n",
       "      <th>Unnamed: 0</th>\n",
       "      <th>Brand</th>\n",
       "      <th>Model</th>\n",
       "      <th>Series</th>\n",
       "      <th>Processor</th>\n",
       "      <th>Processor_Gen</th>\n",
       "      <th>RAM</th>\n",
       "      <th>Hard_Disk_Capacity</th>\n",
       "      <th>OS</th>\n",
       "      <th>Rating</th>\n",
       "      <th>Price</th>\n",
       "    </tr>\n",
       "  </thead>\n",
       "  <tbody>\n",
       "    <tr>\n",
       "      <th>0</th>\n",
       "      <td>0</td>\n",
       "      <td>DELL</td>\n",
       "      <td>Inspiron</td>\n",
       "      <td>NaN</td>\n",
       "      <td>i3</td>\n",
       "      <td>11th</td>\n",
       "      <td>8.0</td>\n",
       "      <td>1 TB HDD</td>\n",
       "      <td>Windows 11 Home</td>\n",
       "      <td>3.7</td>\n",
       "      <td>39040</td>\n",
       "    </tr>\n",
       "    <tr>\n",
       "      <th>1</th>\n",
       "      <td>1</td>\n",
       "      <td>DELL</td>\n",
       "      <td>Vostro</td>\n",
       "      <td>NaN</td>\n",
       "      <td>i5</td>\n",
       "      <td>11th</td>\n",
       "      <td>8.0</td>\n",
       "      <td>1 TB HDD</td>\n",
       "      <td>Windows 10 Home</td>\n",
       "      <td>3.6</td>\n",
       "      <td>50840</td>\n",
       "    </tr>\n",
       "    <tr>\n",
       "      <th>2</th>\n",
       "      <td>2</td>\n",
       "      <td>ASUS</td>\n",
       "      <td>VivoBook</td>\n",
       "      <td>15</td>\n",
       "      <td>i3</td>\n",
       "      <td>10th</td>\n",
       "      <td>8.0</td>\n",
       "      <td>512 GB SSD</td>\n",
       "      <td>Windows 11 Home</td>\n",
       "      <td>4.3</td>\n",
       "      <td>37940</td>\n",
       "    </tr>\n",
       "    <tr>\n",
       "      <th>3</th>\n",
       "      <td>3</td>\n",
       "      <td>DELL</td>\n",
       "      <td>Inspiron</td>\n",
       "      <td>NaN</td>\n",
       "      <td>i3</td>\n",
       "      <td>11th</td>\n",
       "      <td>8.0</td>\n",
       "      <td>1 TB HDD</td>\n",
       "      <td>256 GB SSD</td>\n",
       "      <td>4.4</td>\n",
       "      <td>44440</td>\n",
       "    </tr>\n",
       "    <tr>\n",
       "      <th>4</th>\n",
       "      <td>4</td>\n",
       "      <td>ASUS</td>\n",
       "      <td>TUF</td>\n",
       "      <td>Gaming</td>\n",
       "      <td>i5</td>\n",
       "      <td>10th</td>\n",
       "      <td>8.0</td>\n",
       "      <td>512 GB SSD</td>\n",
       "      <td>Windows 10 Home</td>\n",
       "      <td>4.5</td>\n",
       "      <td>57940</td>\n",
       "    </tr>\n",
       "  </tbody>\n",
       "</table>\n",
       "</div>"
      ],
      "text/plain": [
       "   Unnamed: 0 Brand     Model  Series Processor Processor_Gen  RAM  \\\n",
       "0           0  DELL  Inspiron     NaN        i3          11th  8.0   \n",
       "1           1  DELL    Vostro     NaN        i5          11th  8.0   \n",
       "2           2  ASUS  VivoBook      15        i3          10th  8.0   \n",
       "3           3  DELL  Inspiron     NaN        i3          11th  8.0   \n",
       "4           4  ASUS       TUF  Gaming        i5          10th  8.0   \n",
       "\n",
       "  Hard_Disk_Capacity               OS  Rating  Price  \n",
       "0           1 TB HDD  Windows 11 Home     3.7  39040  \n",
       "1           1 TB HDD  Windows 10 Home     3.6  50840  \n",
       "2         512 GB SSD  Windows 11 Home     4.3  37940  \n",
       "3           1 TB HDD       256 GB SSD     4.4  44440  \n",
       "4         512 GB SSD  Windows 10 Home     4.5  57940  "
      ]
     },
     "execution_count": 24,
     "metadata": {},
     "output_type": "execute_result"
    }
   ],
   "source": [
    "data.head()"
   ]
  },
  {
   "cell_type": "code",
   "execution_count": 25,
   "metadata": {},
   "outputs": [
    {
     "data": {
      "text/plain": [
       "Unnamed: 0             0\n",
       "Brand                  0\n",
       "Model                 14\n",
       "Series                50\n",
       "Processor              7\n",
       "Processor_Gen          7\n",
       "RAM                    8\n",
       "Hard_Disk_Capacity     8\n",
       "OS                     8\n",
       "Rating                 7\n",
       "Price                  0\n",
       "dtype: int64"
      ]
     },
     "execution_count": 25,
     "metadata": {},
     "output_type": "execute_result"
    }
   ],
   "source": [
    "data.isnull().sum()"
   ]
  },
  {
   "cell_type": "code",
   "execution_count": 26,
   "metadata": {},
   "outputs": [
    {
     "data": {
      "text/html": [
       "<div>\n",
       "<style scoped>\n",
       "    .dataframe tbody tr th:only-of-type {\n",
       "        vertical-align: middle;\n",
       "    }\n",
       "\n",
       "    .dataframe tbody tr th {\n",
       "        vertical-align: top;\n",
       "    }\n",
       "\n",
       "    .dataframe thead th {\n",
       "        text-align: right;\n",
       "    }\n",
       "</style>\n",
       "<table border=\"1\" class=\"dataframe\">\n",
       "  <thead>\n",
       "    <tr style=\"text-align: right;\">\n",
       "      <th></th>\n",
       "      <th>Unnamed: 0</th>\n",
       "      <th>RAM</th>\n",
       "      <th>Rating</th>\n",
       "      <th>Price</th>\n",
       "    </tr>\n",
       "  </thead>\n",
       "  <tbody>\n",
       "    <tr>\n",
       "      <th>count</th>\n",
       "      <td>130.000000</td>\n",
       "      <td>122.000000</td>\n",
       "      <td>123.000000</td>\n",
       "      <td>130.000000</td>\n",
       "    </tr>\n",
       "    <tr>\n",
       "      <th>mean</th>\n",
       "      <td>64.500000</td>\n",
       "      <td>8.622951</td>\n",
       "      <td>4.194309</td>\n",
       "      <td>53962.476923</td>\n",
       "    </tr>\n",
       "    <tr>\n",
       "      <th>std</th>\n",
       "      <td>37.671829</td>\n",
       "      <td>3.253296</td>\n",
       "      <td>0.347898</td>\n",
       "      <td>21369.679452</td>\n",
       "    </tr>\n",
       "    <tr>\n",
       "      <th>min</th>\n",
       "      <td>0.000000</td>\n",
       "      <td>4.000000</td>\n",
       "      <td>2.900000</td>\n",
       "      <td>17640.000000</td>\n",
       "    </tr>\n",
       "    <tr>\n",
       "      <th>25%</th>\n",
       "      <td>32.250000</td>\n",
       "      <td>8.000000</td>\n",
       "      <td>4.100000</td>\n",
       "      <td>39052.500000</td>\n",
       "    </tr>\n",
       "    <tr>\n",
       "      <th>50%</th>\n",
       "      <td>64.500000</td>\n",
       "      <td>8.000000</td>\n",
       "      <td>4.300000</td>\n",
       "      <td>46940.000000</td>\n",
       "    </tr>\n",
       "    <tr>\n",
       "      <th>75%</th>\n",
       "      <td>96.750000</td>\n",
       "      <td>8.000000</td>\n",
       "      <td>4.400000</td>\n",
       "      <td>61565.000000</td>\n",
       "    </tr>\n",
       "    <tr>\n",
       "      <th>max</th>\n",
       "      <td>129.000000</td>\n",
       "      <td>16.000000</td>\n",
       "      <td>4.800000</td>\n",
       "      <td>129990.000000</td>\n",
       "    </tr>\n",
       "  </tbody>\n",
       "</table>\n",
       "</div>"
      ],
      "text/plain": [
       "       Unnamed: 0         RAM      Rating          Price\n",
       "count  130.000000  122.000000  123.000000     130.000000\n",
       "mean    64.500000    8.622951    4.194309   53962.476923\n",
       "std     37.671829    3.253296    0.347898   21369.679452\n",
       "min      0.000000    4.000000    2.900000   17640.000000\n",
       "25%     32.250000    8.000000    4.100000   39052.500000\n",
       "50%     64.500000    8.000000    4.300000   46940.000000\n",
       "75%     96.750000    8.000000    4.400000   61565.000000\n",
       "max    129.000000   16.000000    4.800000  129990.000000"
      ]
     },
     "execution_count": 26,
     "metadata": {},
     "output_type": "execute_result"
    }
   ],
   "source": [
    "data.describe()"
   ]
  },
  {
   "cell_type": "code",
   "execution_count": 27,
   "metadata": {},
   "outputs": [
    {
     "name": "stderr",
     "output_type": "stream",
     "text": [
      "C:\\Users\\Ansari\\AppData\\Local\\Temp\\ipykernel_14176\\531903386.py:1: FutureWarning: Dropping of nuisance columns in DataFrame reductions (with 'numeric_only=None') is deprecated; in a future version this will raise TypeError.  Select only valid columns before calling the reduction.\n",
      "  data.mean()\n"
     ]
    },
    {
     "data": {
      "text/plain": [
       "Unnamed: 0       64.500000\n",
       "RAM               8.622951\n",
       "Rating            4.194309\n",
       "Price         53962.476923\n",
       "dtype: float64"
      ]
     },
     "execution_count": 27,
     "metadata": {},
     "output_type": "execute_result"
    }
   ],
   "source": [
    "data.mean()"
   ]
  },
  {
   "cell_type": "code",
   "execution_count": 28,
   "metadata": {},
   "outputs": [
    {
     "name": "stderr",
     "output_type": "stream",
     "text": [
      "C:\\Users\\Ansari\\AppData\\Local\\Temp\\ipykernel_14176\\2723740006.py:1: FutureWarning: Dropping of nuisance columns in DataFrame reductions (with 'numeric_only=None') is deprecated; in a future version this will raise TypeError.  Select only valid columns before calling the reduction.\n",
      "  data.std()\n"
     ]
    },
    {
     "data": {
      "text/plain": [
       "Unnamed: 0       37.671829\n",
       "RAM               3.253296\n",
       "Rating            0.347898\n",
       "Price         21369.679452\n",
       "dtype: float64"
      ]
     },
     "execution_count": 28,
     "metadata": {},
     "output_type": "execute_result"
    }
   ],
   "source": [
    "data.std()"
   ]
  },
  {
   "cell_type": "code",
   "execution_count": 29,
   "metadata": {},
   "outputs": [
    {
     "data": {
      "text/plain": [
       "Unnamed: 0             0\n",
       "Brand                  0\n",
       "Model                 14\n",
       "Series                50\n",
       "Processor              7\n",
       "Processor_Gen          7\n",
       "RAM                    8\n",
       "Hard_Disk_Capacity     8\n",
       "OS                     8\n",
       "Rating                 7\n",
       "Price                  0\n",
       "dtype: int64"
      ]
     },
     "execution_count": 29,
     "metadata": {},
     "output_type": "execute_result"
    }
   ],
   "source": [
    "data.isnull().sum()"
   ]
  },
  {
   "cell_type": "code",
   "execution_count": 37,
   "metadata": {},
   "outputs": [],
   "source": [
    "data[\"Rating\"].fillna(data[\"Rating\"].mean(),inplace = True)"
   ]
  },
  {
   "cell_type": "code",
   "execution_count": 38,
   "metadata": {},
   "outputs": [
    {
     "data": {
      "text/plain": [
       "Unnamed: 0             0\n",
       "Brand                  0\n",
       "Model                 14\n",
       "Series                50\n",
       "Processor              7\n",
       "Processor_Gen          7\n",
       "RAM                    8\n",
       "Hard_Disk_Capacity     8\n",
       "OS                     8\n",
       "Rating                 0\n",
       "Price                  0\n",
       "dtype: int64"
      ]
     },
     "execution_count": 38,
     "metadata": {},
     "output_type": "execute_result"
    }
   ],
   "source": [
    "data.isnull().sum()"
   ]
  },
  {
   "cell_type": "code",
   "execution_count": 42,
   "metadata": {},
   "outputs": [
    {
     "data": {
      "image/png": "[encoded data removed]",
      "text/plain": [
       "<Figure size 432x288 with 1 Axes>"
      ]
     },
     "metadata": {
      "needs_background": "light"
     },
     "output_type": "display_data"
    }
   ],
   "source": [
    "import matplotlib.pyplot as plt\n",
    "\n",
    "plt.hist(data[\"Rating\"],bins=40)\n",
    "plt.title(\"Rating vs Frequency\")\n",
    "plt.xlabel(\"Rating\")\n",
    "plt.ylabel(\"Frequency\")\n",
    "\n",
    "plt.show()\n"
   ]
  },
  {
   "cell_type": "code",
   "execution_count": 47,
   "metadata": {},
   "outputs": [
    {
     "data": {
      "text/plain": [
       "4.3"
      ]
     },
     "execution_count": 47,
     "metadata": {},
     "output_type": "execute_result"
    },
    {
     "data": {
      "image/png": "[encoded data removed]",
      "text/plain": [
       "<Figure size 432x288 with 1 Axes>"
      ]
     },
     "metadata": {
      "needs_background": "light"
     },
     "output_type": "display_data"
    }
   ],
   "source": [
    "data.boxplot(column=[\"Rating\"])\n",
    "data[\"Rating\"].median()"
   ]
  },
  {
   "cell_type": "code",
   "execution_count": 45,
   "metadata": {},
   "outputs": [
    {
     "data": {
      "text/plain": [
       "<AxesSubplot:>"
      ]
     },
     "execution_count": 45,
     "metadata": {},
     "output_type": "execute_result"
    },
    {
     "data": {
      "image/png": "[encoded data removed]",
      "text/plain": [
       "<Figure size 432x288 with 1 Axes>"
      ]
     },
     "metadata": {
      "needs_background": "light"
     },
     "output_type": "display_data"
    }
   ],
   "source": [
    "data.boxplot(column=[\"RAM\"])"
   ]
  },
  {
   "cell_type": "code",
   "execution_count": 48,
   "metadata": {},
   "outputs": [
    {
     "data": {
      "text/html": [
       "<div>\n",
       "<style scoped>\n",
       "    .dataframe tbody tr th:only-of-type {\n",
       "        vertical-align: middle;\n",
       "    }\n",
       "\n",
       "    .dataframe tbody tr th {\n",
       "        vertical-align: top;\n",
       "    }\n",
       "\n",
       "    .dataframe thead th {\n",
       "        text-align: right;\n",
       "    }\n",
       "</style>\n",
       "<table border=\"1\" class=\"dataframe\">\n",
       "  <thead>\n",
       "    <tr style=\"text-align: right;\">\n",
       "      <th></th>\n",
       "      <th>Unnamed: 0</th>\n",
       "      <th>RAM</th>\n",
       "      <th>Rating</th>\n",
       "      <th>Price</th>\n",
       "    </tr>\n",
       "  </thead>\n",
       "  <tbody>\n",
       "    <tr>\n",
       "      <th>Unnamed: 0</th>\n",
       "      <td>1.000000</td>\n",
       "      <td>0.000611</td>\n",
       "      <td>-0.229014</td>\n",
       "      <td>0.169254</td>\n",
       "    </tr>\n",
       "    <tr>\n",
       "      <th>RAM</th>\n",
       "      <td>0.000611</td>\n",
       "      <td>1.000000</td>\n",
       "      <td>0.250196</td>\n",
       "      <td>0.685747</td>\n",
       "    </tr>\n",
       "    <tr>\n",
       "      <th>Rating</th>\n",
       "      <td>-0.229014</td>\n",
       "      <td>0.250196</td>\n",
       "      <td>1.000000</td>\n",
       "      <td>0.426419</td>\n",
       "    </tr>\n",
       "    <tr>\n",
       "      <th>Price</th>\n",
       "      <td>0.169254</td>\n",
       "      <td>0.685747</td>\n",
       "      <td>0.426419</td>\n",
       "      <td>1.000000</td>\n",
       "    </tr>\n",
       "  </tbody>\n",
       "</table>\n",
       "</div>"
      ],
      "text/plain": [
       "            Unnamed: 0       RAM    Rating     Price\n",
       "Unnamed: 0    1.000000  0.000611 -0.229014  0.169254\n",
       "RAM           0.000611  1.000000  0.250196  0.685747\n",
       "Rating       -0.229014  0.250196  1.000000  0.426419\n",
       "Price         0.169254  0.685747  0.426419  1.000000"
      ]
     },
     "execution_count": 48,
     "metadata": {},
     "output_type": "execute_result"
    }
   ],
   "source": [
    "data.corr()"
   ]
  },
  {
   "cell_type": "code",
   "execution_count": 52,
   "metadata": {},
   "outputs": [
    {
     "data": {
      "text/plain": [
       "Text(0, 0.5, 'Rating')"
      ]
     },
     "execution_count": 52,
     "metadata": {},
     "output_type": "execute_result"
    },
    {
     "data": {
      "image/png": "[encoded data removed]",
      "text/plain": [
       "<Figure size 432x288 with 1 Axes>"
      ]
     },
     "metadata": {
      "needs_background": "light"
     },
     "output_type": "display_data"
    }
   ],
   "source": [
    "plt.scatter(data[\"RAM\"],data[\"Rating\"])\n",
    "plt.title(\"RAM vs Rating\")\n",
    "plt.xlabel(\"RAM\")\n",
    "plt.ylabel(\"Rating\")"
   ]
  },
  {
   "cell_type": "code",
   "execution_count": null,
   "metadata": {},
   "outputs": [],
   "source": []
  },
  {
   "cell_type": "code",
   "execution_count": null,
   "metadata": {},
   "outputs": [],
   "source": []
  }
 ],
 "metadata": {
  "interpreter": {
   "hash": "1889259bd0ac9e4df2005cc42275f709e152093235e91c3bd7309c1f2bdae618"
  },
  "kernelspec": {
   "display_name": "Python 3.10.0 64-bit",
   "language": "python",
   "name": "python3"
  },
  "language_info": {
   "codemirror_mode": {
    "name": "ipython",
    "version": 3
   },
   "file_extension": ".py",
   "mimetype": "text/x-python",
   "name": "python",
   "nbconvert_exporter": "python",
   "pygments_lexer": "ipython3",
   "version": "3.10.0"
  },
  "orig_nbformat": 4
 },
 "nbformat": 4,
 "nbformat_minor": 2
}
