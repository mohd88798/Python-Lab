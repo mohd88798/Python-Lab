{
 "cells": [
  {
   "cell_type": "code",
   "execution_count": 2,
   "metadata": {},
   "outputs": [],
   "source": [
    "from tkinter import *\n",
    "\n",
    "main_screen = Tk()\n",
    "main_screen.geometry(\"300x250\")\n",
    "main_screen.title(\"Account Login\")\n",
    "Label(text=\"Select Your Choice\", bg=\"blue\", width=\"300\", height=\"2\", font=(\"Calibri\", 13)).pack()\n",
    "Label(text=\"\").pack()\n",
    "Button(text=\"Admin Login\", height=\"2\", width=\"30\").pack()\n",
    "Label(text=\"\").pack()\n",
    "Button(text=\"Register\", height=\"2\", width=\"30\").pack()\n",
    "\n",
    "main_screen.mainloop()"
   ]
  }
 ],
 "metadata": {
  "interpreter": {
   "hash": "916dbcbb3f70747c44a77c7bcd40155683ae19c65e1c03b4aa3499c5328201f1"
  },
  "kernelspec": {
   "display_name": "Python 3.8.10 64-bit",
   "language": "python",
   "name": "python3"
  },
  "language_info": {
   "codemirror_mode": {
    "name": "ipython",
    "version": 3
   },
   "file_extension": ".py",
   "mimetype": "text/x-python",
   "name": "python",
   "nbconvert_exporter": "python",
   "pygments_lexer": "ipython3",
   "version": "3.10.0"
  },
  "orig_nbformat": 4
 },
 "nbformat": 4,
 "nbformat_minor": 2
}
